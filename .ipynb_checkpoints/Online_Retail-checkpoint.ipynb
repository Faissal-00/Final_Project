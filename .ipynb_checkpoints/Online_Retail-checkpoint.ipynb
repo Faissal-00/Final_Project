{
 "cells": [
  {
   "cell_type": "markdown",
   "id": "cca55499",
   "metadata": {},
   "source": [
    "# I-Python"
   ]
  },
  {
   "cell_type": "code",
   "execution_count": 1,
   "id": "9d1df703",
   "metadata": {},
   "outputs": [],
   "source": [
    "import pandas as pd\n",
    "import numpy as np\n",
    "import matplotlib.pyplot as plt"
   ]
  },
  {
   "cell_type": "code",
   "execution_count": 2,
   "id": "b39de496",
   "metadata": {
    "scrolled": true
   },
   "outputs": [
    {
     "data": {
      "text/html": [
       "<div>\n",
       "<style scoped>\n",
       "    .dataframe tbody tr th:only-of-type {\n",
       "        vertical-align: middle;\n",
       "    }\n",
       "\n",
       "    .dataframe tbody tr th {\n",
       "        vertical-align: top;\n",
       "    }\n",
       "\n",
       "    .dataframe thead th {\n",
       "        text-align: right;\n",
       "    }\n",
       "</style>\n",
       "<table border=\"1\" class=\"dataframe\">\n",
       "  <thead>\n",
       "    <tr style=\"text-align: right;\">\n",
       "      <th></th>\n",
       "      <th>InvoiceNo</th>\n",
       "      <th>StockCode</th>\n",
       "      <th>Description</th>\n",
       "      <th>Quantity</th>\n",
       "      <th>InvoiceDate</th>\n",
       "      <th>UnitPrice</th>\n",
       "      <th>CustomerID</th>\n",
       "      <th>Country</th>\n",
       "    </tr>\n",
       "  </thead>\n",
       "  <tbody>\n",
       "    <tr>\n",
       "      <th>0</th>\n",
       "      <td>536365</td>\n",
       "      <td>85123A</td>\n",
       "      <td>WHITE HANGING HEART T-LIGHT HOLDER</td>\n",
       "      <td>6</td>\n",
       "      <td>2010-12-01 08:26:00</td>\n",
       "      <td>2.55</td>\n",
       "      <td>17850.0</td>\n",
       "      <td>United Kingdom</td>\n",
       "    </tr>\n",
       "    <tr>\n",
       "      <th>1</th>\n",
       "      <td>536365</td>\n",
       "      <td>71053</td>\n",
       "      <td>WHITE METAL LANTERN</td>\n",
       "      <td>6</td>\n",
       "      <td>2010-12-01 08:26:00</td>\n",
       "      <td>3.39</td>\n",
       "      <td>17850.0</td>\n",
       "      <td>United Kingdom</td>\n",
       "    </tr>\n",
       "    <tr>\n",
       "      <th>2</th>\n",
       "      <td>536365</td>\n",
       "      <td>84406B</td>\n",
       "      <td>CREAM CUPID HEARTS COAT HANGER</td>\n",
       "      <td>8</td>\n",
       "      <td>2010-12-01 08:26:00</td>\n",
       "      <td>2.75</td>\n",
       "      <td>17850.0</td>\n",
       "      <td>United Kingdom</td>\n",
       "    </tr>\n",
       "    <tr>\n",
       "      <th>3</th>\n",
       "      <td>536365</td>\n",
       "      <td>84029G</td>\n",
       "      <td>KNITTED UNION FLAG HOT WATER BOTTLE</td>\n",
       "      <td>6</td>\n",
       "      <td>2010-12-01 08:26:00</td>\n",
       "      <td>3.39</td>\n",
       "      <td>17850.0</td>\n",
       "      <td>United Kingdom</td>\n",
       "    </tr>\n",
       "    <tr>\n",
       "      <th>4</th>\n",
       "      <td>536365</td>\n",
       "      <td>84029E</td>\n",
       "      <td>RED WOOLLY HOTTIE WHITE HEART.</td>\n",
       "      <td>6</td>\n",
       "      <td>2010-12-01 08:26:00</td>\n",
       "      <td>3.39</td>\n",
       "      <td>17850.0</td>\n",
       "      <td>United Kingdom</td>\n",
       "    </tr>\n",
       "  </tbody>\n",
       "</table>\n",
       "</div>"
      ],
      "text/plain": [
       "  InvoiceNo StockCode                          Description  Quantity   \n",
       "0    536365    85123A   WHITE HANGING HEART T-LIGHT HOLDER         6  \\\n",
       "1    536365     71053                  WHITE METAL LANTERN         6   \n",
       "2    536365    84406B       CREAM CUPID HEARTS COAT HANGER         8   \n",
       "3    536365    84029G  KNITTED UNION FLAG HOT WATER BOTTLE         6   \n",
       "4    536365    84029E       RED WOOLLY HOTTIE WHITE HEART.         6   \n",
       "\n",
       "           InvoiceDate  UnitPrice  CustomerID         Country  \n",
       "0  2010-12-01 08:26:00       2.55     17850.0  United Kingdom  \n",
       "1  2010-12-01 08:26:00       3.39     17850.0  United Kingdom  \n",
       "2  2010-12-01 08:26:00       2.75     17850.0  United Kingdom  \n",
       "3  2010-12-01 08:26:00       3.39     17850.0  United Kingdom  \n",
       "4  2010-12-01 08:26:00       3.39     17850.0  United Kingdom  "
      ]
     },
     "execution_count": 2,
     "metadata": {},
     "output_type": "execute_result"
    }
   ],
   "source": [
    "df=pd.read_csv('Online_Retail.csv')\n",
    "df.head()"
   ]
  },
  {
   "cell_type": "markdown",
   "id": "20f3cb0e",
   "metadata": {},
   "source": [
    "## I-1 Nettoyage"
   ]
  },
  {
   "cell_type": "markdown",
   "id": "ce86c6e4",
   "metadata": {},
   "source": [
    "### Quelle est la taille totale du Dataset avant le nettoyage des données ?"
   ]
  },
  {
   "cell_type": "code",
   "execution_count": 3,
   "id": "e863889b",
   "metadata": {},
   "outputs": [
    {
     "name": "stdout",
     "output_type": "stream",
     "text": [
      "(541909, 8)\n"
     ]
    }
   ],
   "source": [
    "print(df.shape)"
   ]
  },
  {
   "cell_type": "code",
   "execution_count": 4,
   "id": "3fc21f52",
   "metadata": {},
   "outputs": [
    {
     "name": "stdout",
     "output_type": "stream",
     "text": [
      "5268\n"
     ]
    }
   ],
   "source": [
    "print(df.duplicated().sum())"
   ]
  },
  {
   "cell_type": "markdown",
   "id": "8744531f",
   "metadata": {},
   "source": [
    "### Y'a-il des valeurs manquantes dans le Dataset ? Si oui, comment les gérer ?"
   ]
  },
  {
   "cell_type": "code",
   "execution_count": 5,
   "id": "0536b9a8",
   "metadata": {
    "scrolled": false
   },
   "outputs": [
    {
     "name": "stdout",
     "output_type": "stream",
     "text": [
      "InvoiceNo           0\n",
      "StockCode           0\n",
      "Description      1454\n",
      "Quantity            0\n",
      "InvoiceDate         0\n",
      "UnitPrice           0\n",
      "CustomerID     135080\n",
      "Country             0\n",
      "dtype: int64\n"
     ]
    }
   ],
   "source": [
    "print(df.isnull().sum(axis=0))"
   ]
  },
  {
   "cell_type": "code",
   "execution_count": 6,
   "id": "09d77987",
   "metadata": {
    "scrolled": true
   },
   "outputs": [
    {
     "data": {
      "text/html": [
       "<div>\n",
       "<style scoped>\n",
       "    .dataframe tbody tr th:only-of-type {\n",
       "        vertical-align: middle;\n",
       "    }\n",
       "\n",
       "    .dataframe tbody tr th {\n",
       "        vertical-align: top;\n",
       "    }\n",
       "\n",
       "    .dataframe thead th {\n",
       "        text-align: right;\n",
       "    }\n",
       "</style>\n",
       "<table border=\"1\" class=\"dataframe\">\n",
       "  <thead>\n",
       "    <tr style=\"text-align: right;\">\n",
       "      <th></th>\n",
       "      <th>InvoiceNo</th>\n",
       "      <th>StockCode</th>\n",
       "      <th>Description</th>\n",
       "      <th>Quantity</th>\n",
       "      <th>InvoiceDate</th>\n",
       "      <th>UnitPrice</th>\n",
       "      <th>CustomerID</th>\n",
       "      <th>Country</th>\n",
       "    </tr>\n",
       "  </thead>\n",
       "  <tbody>\n",
       "    <tr>\n",
       "      <th>0</th>\n",
       "      <td>536365</td>\n",
       "      <td>85123A</td>\n",
       "      <td>WHITE HANGING HEART T-LIGHT HOLDER</td>\n",
       "      <td>6</td>\n",
       "      <td>2010-12-01 08:26:00</td>\n",
       "      <td>2.55</td>\n",
       "      <td>17850.0</td>\n",
       "      <td>United Kingdom</td>\n",
       "    </tr>\n",
       "    <tr>\n",
       "      <th>1</th>\n",
       "      <td>536365</td>\n",
       "      <td>71053</td>\n",
       "      <td>WHITE METAL LANTERN</td>\n",
       "      <td>6</td>\n",
       "      <td>2010-12-01 08:26:00</td>\n",
       "      <td>3.39</td>\n",
       "      <td>17850.0</td>\n",
       "      <td>United Kingdom</td>\n",
       "    </tr>\n",
       "    <tr>\n",
       "      <th>2</th>\n",
       "      <td>536365</td>\n",
       "      <td>84406B</td>\n",
       "      <td>CREAM CUPID HEARTS COAT HANGER</td>\n",
       "      <td>8</td>\n",
       "      <td>2010-12-01 08:26:00</td>\n",
       "      <td>2.75</td>\n",
       "      <td>17850.0</td>\n",
       "      <td>United Kingdom</td>\n",
       "    </tr>\n",
       "    <tr>\n",
       "      <th>3</th>\n",
       "      <td>536365</td>\n",
       "      <td>84029G</td>\n",
       "      <td>KNITTED UNION FLAG HOT WATER BOTTLE</td>\n",
       "      <td>6</td>\n",
       "      <td>2010-12-01 08:26:00</td>\n",
       "      <td>3.39</td>\n",
       "      <td>17850.0</td>\n",
       "      <td>United Kingdom</td>\n",
       "    </tr>\n",
       "    <tr>\n",
       "      <th>4</th>\n",
       "      <td>536365</td>\n",
       "      <td>84029E</td>\n",
       "      <td>RED WOOLLY HOTTIE WHITE HEART.</td>\n",
       "      <td>6</td>\n",
       "      <td>2010-12-01 08:26:00</td>\n",
       "      <td>3.39</td>\n",
       "      <td>17850.0</td>\n",
       "      <td>United Kingdom</td>\n",
       "    </tr>\n",
       "  </tbody>\n",
       "</table>\n",
       "</div>"
      ],
      "text/plain": [
       "  InvoiceNo StockCode                          Description  Quantity   \n",
       "0    536365    85123A   WHITE HANGING HEART T-LIGHT HOLDER         6  \\\n",
       "1    536365     71053                  WHITE METAL LANTERN         6   \n",
       "2    536365    84406B       CREAM CUPID HEARTS COAT HANGER         8   \n",
       "3    536365    84029G  KNITTED UNION FLAG HOT WATER BOTTLE         6   \n",
       "4    536365    84029E       RED WOOLLY HOTTIE WHITE HEART.         6   \n",
       "\n",
       "           InvoiceDate  UnitPrice  CustomerID         Country  \n",
       "0  2010-12-01 08:26:00       2.55     17850.0  United Kingdom  \n",
       "1  2010-12-01 08:26:00       3.39     17850.0  United Kingdom  \n",
       "2  2010-12-01 08:26:00       2.75     17850.0  United Kingdom  \n",
       "3  2010-12-01 08:26:00       3.39     17850.0  United Kingdom  \n",
       "4  2010-12-01 08:26:00       3.39     17850.0  United Kingdom  "
      ]
     },
     "execution_count": 6,
     "metadata": {},
     "output_type": "execute_result"
    }
   ],
   "source": [
    "cn = df.loc[(df['CustomerID'].isna()) & (df['UnitPrice'] ==0)]\n",
    "df = df.drop(cn.index)\n",
    "df.head()"
   ]
  },
  {
   "cell_type": "code",
   "execution_count": 7,
   "id": "e9a55673",
   "metadata": {},
   "outputs": [
    {
     "name": "stdout",
     "output_type": "stream",
     "text": [
      "(539434, 8)\n"
     ]
    }
   ],
   "source": [
    "print(df.shape)"
   ]
  },
  {
   "cell_type": "code",
   "execution_count": 8,
   "id": "6e3a159f",
   "metadata": {},
   "outputs": [
    {
     "name": "stdout",
     "output_type": "stream",
     "text": [
      "InvoiceNo           0\n",
      "StockCode           0\n",
      "Description         0\n",
      "Quantity            0\n",
      "InvoiceDate         0\n",
      "UnitPrice           0\n",
      "CustomerID     132605\n",
      "Country             0\n",
      "dtype: int64\n"
     ]
    }
   ],
   "source": [
    "print(df.isnull().sum(axis=0))"
   ]
  },
  {
   "cell_type": "code",
   "execution_count": 9,
   "id": "9536e4ba",
   "metadata": {},
   "outputs": [
    {
     "name": "stdout",
     "output_type": "stream",
     "text": [
      "[12346. 12347. 12348. ... 18283. 18287.    nan]\n"
     ]
    }
   ],
   "source": [
    "dfnumsyl = np.sort(df['CustomerID'].unique())\n",
    "print(dfnumsyl)"
   ]
  },
  {
   "cell_type": "code",
   "execution_count": 10,
   "id": "bb3bf7d7",
   "metadata": {},
   "outputs": [],
   "source": [
    "missing_ids = df['CustomerID'].isnull()\n",
    "generated_ids = np.random.randint(18288, 30000, sum(missing_ids)).astype(int)\n",
    "df.loc[missing_ids, 'CustomerID'] = generated_ids"
   ]
  },
  {
   "cell_type": "code",
   "execution_count": 11,
   "id": "799dd8dd",
   "metadata": {},
   "outputs": [
    {
     "name": "stdout",
     "output_type": "stream",
     "text": [
      "[12346. 12347. 12348. ... 29997. 29998. 29999.]\n"
     ]
    }
   ],
   "source": [
    "dfnumsyl = np.sort(df['CustomerID'].unique())\n",
    "print(dfnumsyl)"
   ]
  },
  {
   "cell_type": "code",
   "execution_count": 12,
   "id": "dc273407",
   "metadata": {},
   "outputs": [
    {
     "name": "stdout",
     "output_type": "stream",
     "text": [
      "InvoiceNo      0\n",
      "StockCode      0\n",
      "Description    0\n",
      "Quantity       0\n",
      "InvoiceDate    0\n",
      "UnitPrice      0\n",
      "CustomerID     0\n",
      "Country        0\n",
      "dtype: int64\n"
     ]
    }
   ],
   "source": [
    "print(df.isnull().sum(axis=0))"
   ]
  },
  {
   "cell_type": "code",
   "execution_count": 13,
   "id": "c98c888d",
   "metadata": {},
   "outputs": [],
   "source": [
    "# convertir le 'CustomerID' en type entier.\n",
    "df['CustomerID'] = df['CustomerID'].astype(int)"
   ]
  },
  {
   "cell_type": "markdown",
   "id": "a81f6be4",
   "metadata": {},
   "source": [
    "### Les valeurs aberrantes ou les valeurs extrêmes doivent-elles être\n",
    "### corrigées ou supprimées ? comment peut ont faire ?"
   ]
  },
  {
   "cell_type": "code",
   "execution_count": 14,
   "id": "9265ea63",
   "metadata": {
    "scrolled": true
   },
   "outputs": [
    {
     "data": {
      "text/html": [
       "<div>\n",
       "<style scoped>\n",
       "    .dataframe tbody tr th:only-of-type {\n",
       "        vertical-align: middle;\n",
       "    }\n",
       "\n",
       "    .dataframe tbody tr th {\n",
       "        vertical-align: top;\n",
       "    }\n",
       "\n",
       "    .dataframe thead th {\n",
       "        text-align: right;\n",
       "    }\n",
       "</style>\n",
       "<table border=\"1\" class=\"dataframe\">\n",
       "  <thead>\n",
       "    <tr style=\"text-align: right;\">\n",
       "      <th></th>\n",
       "      <th>Quantity</th>\n",
       "      <th>UnitPrice</th>\n",
       "      <th>CustomerID</th>\n",
       "    </tr>\n",
       "  </thead>\n",
       "  <tbody>\n",
       "    <tr>\n",
       "      <th>count</th>\n",
       "      <td>539434.000000</td>\n",
       "      <td>539434.000000</td>\n",
       "      <td>539434.000000</td>\n",
       "    </tr>\n",
       "    <tr>\n",
       "      <th>mean</th>\n",
       "      <td>9.870879</td>\n",
       "      <td>4.632270</td>\n",
       "      <td>17466.901476</td>\n",
       "    </tr>\n",
       "    <tr>\n",
       "      <th>std</th>\n",
       "      <td>216.079582</td>\n",
       "      <td>96.981068</td>\n",
       "      <td>4426.159831</td>\n",
       "    </tr>\n",
       "    <tr>\n",
       "      <th>min</th>\n",
       "      <td>-80995.000000</td>\n",
       "      <td>-11062.060000</td>\n",
       "      <td>12346.000000</td>\n",
       "    </tr>\n",
       "    <tr>\n",
       "      <th>25%</th>\n",
       "      <td>1.000000</td>\n",
       "      <td>1.250000</td>\n",
       "      <td>14359.000000</td>\n",
       "    </tr>\n",
       "    <tr>\n",
       "      <th>50%</th>\n",
       "      <td>3.000000</td>\n",
       "      <td>2.080000</td>\n",
       "      <td>16240.000000</td>\n",
       "    </tr>\n",
       "    <tr>\n",
       "      <th>75%</th>\n",
       "      <td>10.000000</td>\n",
       "      <td>4.130000</td>\n",
       "      <td>18237.000000</td>\n",
       "    </tr>\n",
       "    <tr>\n",
       "      <th>max</th>\n",
       "      <td>80995.000000</td>\n",
       "      <td>38970.000000</td>\n",
       "      <td>29999.000000</td>\n",
       "    </tr>\n",
       "  </tbody>\n",
       "</table>\n",
       "</div>"
      ],
      "text/plain": [
       "            Quantity      UnitPrice     CustomerID\n",
       "count  539434.000000  539434.000000  539434.000000\n",
       "mean        9.870879       4.632270   17466.901476\n",
       "std       216.079582      96.981068    4426.159831\n",
       "min    -80995.000000  -11062.060000   12346.000000\n",
       "25%         1.000000       1.250000   14359.000000\n",
       "50%         3.000000       2.080000   16240.000000\n",
       "75%        10.000000       4.130000   18237.000000\n",
       "max     80995.000000   38970.000000   29999.000000"
      ]
     },
     "execution_count": 14,
     "metadata": {},
     "output_type": "execute_result"
    }
   ],
   "source": [
    "df.describe()"
   ]
  },
  {
   "cell_type": "code",
   "execution_count": 15,
   "id": "cc6540df",
   "metadata": {},
   "outputs": [],
   "source": [
    "df['Quantity'] = np.abs(df['Quantity'])\n",
    "df['UnitPrice'] = np.abs(df['UnitPrice'])"
   ]
  },
  {
   "cell_type": "code",
   "execution_count": 16,
   "id": "c40db5f8",
   "metadata": {
    "scrolled": true
   },
   "outputs": [
    {
     "data": {
      "text/html": [
       "<div>\n",
       "<style scoped>\n",
       "    .dataframe tbody tr th:only-of-type {\n",
       "        vertical-align: middle;\n",
       "    }\n",
       "\n",
       "    .dataframe tbody tr th {\n",
       "        vertical-align: top;\n",
       "    }\n",
       "\n",
       "    .dataframe thead th {\n",
       "        text-align: right;\n",
       "    }\n",
       "</style>\n",
       "<table border=\"1\" class=\"dataframe\">\n",
       "  <thead>\n",
       "    <tr style=\"text-align: right;\">\n",
       "      <th></th>\n",
       "      <th>Quantity</th>\n",
       "      <th>UnitPrice</th>\n",
       "      <th>CustomerID</th>\n",
       "    </tr>\n",
       "  </thead>\n",
       "  <tbody>\n",
       "    <tr>\n",
       "      <th>count</th>\n",
       "      <td>539434.000000</td>\n",
       "      <td>539434.000000</td>\n",
       "      <td>539434.000000</td>\n",
       "    </tr>\n",
       "    <tr>\n",
       "      <th>mean</th>\n",
       "      <td>10.900010</td>\n",
       "      <td>4.714297</td>\n",
       "      <td>17466.901476</td>\n",
       "    </tr>\n",
       "    <tr>\n",
       "      <th>std</th>\n",
       "      <td>216.030113</td>\n",
       "      <td>96.977115</td>\n",
       "      <td>4426.159831</td>\n",
       "    </tr>\n",
       "    <tr>\n",
       "      <th>min</th>\n",
       "      <td>1.000000</td>\n",
       "      <td>0.000000</td>\n",
       "      <td>12346.000000</td>\n",
       "    </tr>\n",
       "    <tr>\n",
       "      <th>25%</th>\n",
       "      <td>1.000000</td>\n",
       "      <td>1.250000</td>\n",
       "      <td>14359.000000</td>\n",
       "    </tr>\n",
       "    <tr>\n",
       "      <th>50%</th>\n",
       "      <td>3.000000</td>\n",
       "      <td>2.080000</td>\n",
       "      <td>16240.000000</td>\n",
       "    </tr>\n",
       "    <tr>\n",
       "      <th>75%</th>\n",
       "      <td>10.000000</td>\n",
       "      <td>4.130000</td>\n",
       "      <td>18237.000000</td>\n",
       "    </tr>\n",
       "    <tr>\n",
       "      <th>max</th>\n",
       "      <td>80995.000000</td>\n",
       "      <td>38970.000000</td>\n",
       "      <td>29999.000000</td>\n",
       "    </tr>\n",
       "  </tbody>\n",
       "</table>\n",
       "</div>"
      ],
      "text/plain": [
       "            Quantity      UnitPrice     CustomerID\n",
       "count  539434.000000  539434.000000  539434.000000\n",
       "mean       10.900010       4.714297   17466.901476\n",
       "std       216.030113      96.977115    4426.159831\n",
       "min         1.000000       0.000000   12346.000000\n",
       "25%         1.000000       1.250000   14359.000000\n",
       "50%         3.000000       2.080000   16240.000000\n",
       "75%        10.000000       4.130000   18237.000000\n",
       "max     80995.000000   38970.000000   29999.000000"
      ]
     },
     "execution_count": 16,
     "metadata": {},
     "output_type": "execute_result"
    }
   ],
   "source": [
    "df.describe()"
   ]
  },
  {
   "cell_type": "markdown",
   "id": "77f0d357",
   "metadata": {},
   "source": [
    "### UnitPrice Problem"
   ]
  },
  {
   "cell_type": "code",
   "execution_count": 17,
   "id": "68a3e4d4",
   "metadata": {},
   "outputs": [
    {
     "data": {
      "text/html": [
       "<div>\n",
       "<style scoped>\n",
       "    .dataframe tbody tr th:only-of-type {\n",
       "        vertical-align: middle;\n",
       "    }\n",
       "\n",
       "    .dataframe tbody tr th {\n",
       "        vertical-align: top;\n",
       "    }\n",
       "\n",
       "    .dataframe thead th {\n",
       "        text-align: right;\n",
       "    }\n",
       "</style>\n",
       "<table border=\"1\" class=\"dataframe\">\n",
       "  <thead>\n",
       "    <tr style=\"text-align: right;\">\n",
       "      <th></th>\n",
       "      <th>InvoiceNo</th>\n",
       "      <th>StockCode</th>\n",
       "      <th>Description</th>\n",
       "      <th>Quantity</th>\n",
       "      <th>InvoiceDate</th>\n",
       "      <th>UnitPrice</th>\n",
       "      <th>CustomerID</th>\n",
       "      <th>Country</th>\n",
       "    </tr>\n",
       "  </thead>\n",
       "  <tbody>\n",
       "    <tr>\n",
       "      <th>9302</th>\n",
       "      <td>537197</td>\n",
       "      <td>22841</td>\n",
       "      <td>ROUND CAKE TIN VINTAGE GREEN</td>\n",
       "      <td>1</td>\n",
       "      <td>2010-12-05 14:02:00</td>\n",
       "      <td>0.0</td>\n",
       "      <td>12647</td>\n",
       "      <td>Germany</td>\n",
       "    </tr>\n",
       "    <tr>\n",
       "      <th>33576</th>\n",
       "      <td>539263</td>\n",
       "      <td>22580</td>\n",
       "      <td>ADVENT CALENDAR GINGHAM SACK</td>\n",
       "      <td>4</td>\n",
       "      <td>2010-12-16 14:36:00</td>\n",
       "      <td>0.0</td>\n",
       "      <td>16560</td>\n",
       "      <td>United Kingdom</td>\n",
       "    </tr>\n",
       "    <tr>\n",
       "      <th>40089</th>\n",
       "      <td>539722</td>\n",
       "      <td>22423</td>\n",
       "      <td>REGENCY CAKESTAND 3 TIER</td>\n",
       "      <td>10</td>\n",
       "      <td>2010-12-21 13:45:00</td>\n",
       "      <td>0.0</td>\n",
       "      <td>14911</td>\n",
       "      <td>EIRE</td>\n",
       "    </tr>\n",
       "    <tr>\n",
       "      <th>47068</th>\n",
       "      <td>540372</td>\n",
       "      <td>22090</td>\n",
       "      <td>PAPER BUNTING RETROSPOT</td>\n",
       "      <td>24</td>\n",
       "      <td>2011-01-06 16:41:00</td>\n",
       "      <td>0.0</td>\n",
       "      <td>13081</td>\n",
       "      <td>United Kingdom</td>\n",
       "    </tr>\n",
       "    <tr>\n",
       "      <th>47070</th>\n",
       "      <td>540372</td>\n",
       "      <td>22553</td>\n",
       "      <td>PLASTERS IN TIN SKULLS</td>\n",
       "      <td>24</td>\n",
       "      <td>2011-01-06 16:41:00</td>\n",
       "      <td>0.0</td>\n",
       "      <td>13081</td>\n",
       "      <td>United Kingdom</td>\n",
       "    </tr>\n",
       "  </tbody>\n",
       "</table>\n",
       "</div>"
      ],
      "text/plain": [
       "      InvoiceNo StockCode                   Description  Quantity   \n",
       "9302     537197     22841  ROUND CAKE TIN VINTAGE GREEN         1  \\\n",
       "33576    539263     22580  ADVENT CALENDAR GINGHAM SACK         4   \n",
       "40089    539722     22423      REGENCY CAKESTAND 3 TIER        10   \n",
       "47068    540372     22090       PAPER BUNTING RETROSPOT        24   \n",
       "47070    540372     22553        PLASTERS IN TIN SKULLS        24   \n",
       "\n",
       "               InvoiceDate  UnitPrice  CustomerID         Country  \n",
       "9302   2010-12-05 14:02:00        0.0       12647         Germany  \n",
       "33576  2010-12-16 14:36:00        0.0       16560  United Kingdom  \n",
       "40089  2010-12-21 13:45:00        0.0       14911            EIRE  \n",
       "47068  2011-01-06 16:41:00        0.0       13081  United Kingdom  \n",
       "47070  2011-01-06 16:41:00        0.0       13081  United Kingdom  "
      ]
     },
     "execution_count": 17,
     "metadata": {},
     "output_type": "execute_result"
    }
   ],
   "source": [
    "zero = df[df['UnitPrice'] == 0]\n",
    "zero.head()"
   ]
  },
  {
   "cell_type": "code",
   "execution_count": 18,
   "id": "961c7fa0",
   "metadata": {},
   "outputs": [],
   "source": [
    "# Générer une correspondance des descriptions avec les prix moyens\n",
    "description_prices = df[df['UnitPrice'] > 0].groupby('Description')['UnitPrice'].mean()\n",
    "\n",
    "# Itérer sur les lignes avec UnitPrice = 0\n",
    "for index, row in df[df['UnitPrice'] == 0].iterrows():\n",
    "    description = row['Description']\n",
    "    if description in description_prices:\n",
    "        new_price = description_prices[description]\n",
    "        df.at[index, 'UnitPrice'] = new_price"
   ]
  },
  {
   "cell_type": "code",
   "execution_count": 19,
   "id": "c8aa79f9",
   "metadata": {},
   "outputs": [
    {
     "data": {
      "text/html": [
       "<div>\n",
       "<style scoped>\n",
       "    .dataframe tbody tr th:only-of-type {\n",
       "        vertical-align: middle;\n",
       "    }\n",
       "\n",
       "    .dataframe tbody tr th {\n",
       "        vertical-align: top;\n",
       "    }\n",
       "\n",
       "    .dataframe thead th {\n",
       "        text-align: right;\n",
       "    }\n",
       "</style>\n",
       "<table border=\"1\" class=\"dataframe\">\n",
       "  <thead>\n",
       "    <tr style=\"text-align: right;\">\n",
       "      <th></th>\n",
       "      <th>InvoiceNo</th>\n",
       "      <th>StockCode</th>\n",
       "      <th>Description</th>\n",
       "      <th>Quantity</th>\n",
       "      <th>InvoiceDate</th>\n",
       "      <th>UnitPrice</th>\n",
       "      <th>CustomerID</th>\n",
       "      <th>Country</th>\n",
       "    </tr>\n",
       "  </thead>\n",
       "  <tbody>\n",
       "  </tbody>\n",
       "</table>\n",
       "</div>"
      ],
      "text/plain": [
       "Empty DataFrame\n",
       "Columns: [InvoiceNo, StockCode, Description, Quantity, InvoiceDate, UnitPrice, CustomerID, Country]\n",
       "Index: []"
      ]
     },
     "execution_count": 19,
     "metadata": {},
     "output_type": "execute_result"
    }
   ],
   "source": [
    "zero = df[df['UnitPrice'] == 0]\n",
    "zero"
   ]
  },
  {
   "cell_type": "code",
   "execution_count": 20,
   "id": "742c9409",
   "metadata": {},
   "outputs": [
    {
     "data": {
      "text/html": [
       "<div>\n",
       "<style scoped>\n",
       "    .dataframe tbody tr th:only-of-type {\n",
       "        vertical-align: middle;\n",
       "    }\n",
       "\n",
       "    .dataframe tbody tr th {\n",
       "        vertical-align: top;\n",
       "    }\n",
       "\n",
       "    .dataframe thead th {\n",
       "        text-align: right;\n",
       "    }\n",
       "</style>\n",
       "<table border=\"1\" class=\"dataframe\">\n",
       "  <thead>\n",
       "    <tr style=\"text-align: right;\">\n",
       "      <th></th>\n",
       "      <th>InvoiceNo</th>\n",
       "      <th>StockCode</th>\n",
       "      <th>Description</th>\n",
       "      <th>Quantity</th>\n",
       "      <th>InvoiceDate</th>\n",
       "      <th>UnitPrice</th>\n",
       "      <th>CustomerID</th>\n",
       "      <th>Country</th>\n",
       "    </tr>\n",
       "  </thead>\n",
       "  <tbody>\n",
       "    <tr>\n",
       "      <th>2834</th>\n",
       "      <td>536592</td>\n",
       "      <td>22841</td>\n",
       "      <td>ROUND CAKE TIN VINTAGE GREEN</td>\n",
       "      <td>1</td>\n",
       "      <td>2010-12-01 17:06:00</td>\n",
       "      <td>16.130000</td>\n",
       "      <td>24459</td>\n",
       "      <td>United Kingdom</td>\n",
       "    </tr>\n",
       "    <tr>\n",
       "      <th>3925</th>\n",
       "      <td>536738</td>\n",
       "      <td>22841</td>\n",
       "      <td>ROUND CAKE TIN VINTAGE GREEN</td>\n",
       "      <td>2</td>\n",
       "      <td>2010-12-02 13:06:00</td>\n",
       "      <td>7.950000</td>\n",
       "      <td>15827</td>\n",
       "      <td>United Kingdom</td>\n",
       "    </tr>\n",
       "    <tr>\n",
       "      <th>5111</th>\n",
       "      <td>536844</td>\n",
       "      <td>22841</td>\n",
       "      <td>ROUND CAKE TIN VINTAGE GREEN</td>\n",
       "      <td>2</td>\n",
       "      <td>2010-12-02 18:49:00</td>\n",
       "      <td>7.950000</td>\n",
       "      <td>14236</td>\n",
       "      <td>United Kingdom</td>\n",
       "    </tr>\n",
       "    <tr>\n",
       "      <th>5328</th>\n",
       "      <td>536859</td>\n",
       "      <td>22841</td>\n",
       "      <td>ROUND CAKE TIN VINTAGE GREEN</td>\n",
       "      <td>1</td>\n",
       "      <td>2010-12-03 10:43:00</td>\n",
       "      <td>7.950000</td>\n",
       "      <td>12841</td>\n",
       "      <td>United Kingdom</td>\n",
       "    </tr>\n",
       "    <tr>\n",
       "      <th>9302</th>\n",
       "      <td>537197</td>\n",
       "      <td>22841</td>\n",
       "      <td>ROUND CAKE TIN VINTAGE GREEN</td>\n",
       "      <td>1</td>\n",
       "      <td>2010-12-05 14:02:00</td>\n",
       "      <td>8.419507</td>\n",
       "      <td>12647</td>\n",
       "      <td>Germany</td>\n",
       "    </tr>\n",
       "  </tbody>\n",
       "</table>\n",
       "</div>"
      ],
      "text/plain": [
       "     InvoiceNo StockCode                   Description  Quantity   \n",
       "2834    536592     22841  ROUND CAKE TIN VINTAGE GREEN         1  \\\n",
       "3925    536738     22841  ROUND CAKE TIN VINTAGE GREEN         2   \n",
       "5111    536844     22841  ROUND CAKE TIN VINTAGE GREEN         2   \n",
       "5328    536859     22841  ROUND CAKE TIN VINTAGE GREEN         1   \n",
       "9302    537197     22841  ROUND CAKE TIN VINTAGE GREEN         1   \n",
       "\n",
       "              InvoiceDate  UnitPrice  CustomerID         Country  \n",
       "2834  2010-12-01 17:06:00  16.130000       24459  United Kingdom  \n",
       "3925  2010-12-02 13:06:00   7.950000       15827  United Kingdom  \n",
       "5111  2010-12-02 18:49:00   7.950000       14236  United Kingdom  \n",
       "5328  2010-12-03 10:43:00   7.950000       12841  United Kingdom  \n",
       "9302  2010-12-05 14:02:00   8.419507       12647         Germany  "
      ]
     },
     "execution_count": 20,
     "metadata": {},
     "output_type": "execute_result"
    }
   ],
   "source": [
    "des=df[df['Description']=='ROUND CAKE TIN VINTAGE GREEN']\n",
    "des.head()"
   ]
  },
  {
   "cell_type": "code",
   "execution_count": 21,
   "id": "95c3b9fe",
   "metadata": {},
   "outputs": [],
   "source": [
    "df=df.drop_duplicates()"
   ]
  },
  {
   "cell_type": "markdown",
   "id": "0b18d338",
   "metadata": {},
   "source": [
    "### Après le nettoyage"
   ]
  },
  {
   "cell_type": "code",
   "execution_count": 22,
   "id": "a0b43720",
   "metadata": {},
   "outputs": [
    {
     "name": "stdout",
     "output_type": "stream",
     "text": [
      "(534209, 8)\n"
     ]
    }
   ],
   "source": [
    "print(df.shape)"
   ]
  },
  {
   "cell_type": "code",
   "execution_count": 23,
   "id": "7e095133",
   "metadata": {},
   "outputs": [
    {
     "name": "stdout",
     "output_type": "stream",
     "text": [
      "InvoiceNo      0\n",
      "StockCode      0\n",
      "Description    0\n",
      "Quantity       0\n",
      "InvoiceDate    0\n",
      "UnitPrice      0\n",
      "CustomerID     0\n",
      "Country        0\n",
      "dtype: int64\n"
     ]
    }
   ],
   "source": [
    "print(df.isnull().sum(axis=0))"
   ]
  },
  {
   "cell_type": "code",
   "execution_count": 24,
   "id": "399075c0",
   "metadata": {},
   "outputs": [
    {
     "name": "stdout",
     "output_type": "stream",
     "text": [
      "0\n"
     ]
    }
   ],
   "source": [
    "print(df.duplicated().sum())"
   ]
  },
  {
   "cell_type": "code",
   "execution_count": 25,
   "id": "003d8c26",
   "metadata": {
    "scrolled": true
   },
   "outputs": [
    {
     "data": {
      "text/html": [
       "<div>\n",
       "<style scoped>\n",
       "    .dataframe tbody tr th:only-of-type {\n",
       "        vertical-align: middle;\n",
       "    }\n",
       "\n",
       "    .dataframe tbody tr th {\n",
       "        vertical-align: top;\n",
       "    }\n",
       "\n",
       "    .dataframe thead th {\n",
       "        text-align: right;\n",
       "    }\n",
       "</style>\n",
       "<table border=\"1\" class=\"dataframe\">\n",
       "  <thead>\n",
       "    <tr style=\"text-align: right;\">\n",
       "      <th></th>\n",
       "      <th>Quantity</th>\n",
       "      <th>UnitPrice</th>\n",
       "      <th>CustomerID</th>\n",
       "    </tr>\n",
       "  </thead>\n",
       "  <tbody>\n",
       "    <tr>\n",
       "      <th>count</th>\n",
       "      <td>534209.000000</td>\n",
       "      <td>534209.000000</td>\n",
       "      <td>534209.000000</td>\n",
       "    </tr>\n",
       "    <tr>\n",
       "      <th>mean</th>\n",
       "      <td>10.973707</td>\n",
       "      <td>4.741298</td>\n",
       "      <td>17483.307045</td>\n",
       "    </tr>\n",
       "    <tr>\n",
       "      <th>std</th>\n",
       "      <td>217.064976</td>\n",
       "      <td>97.457759</td>\n",
       "      <td>4441.794706</td>\n",
       "    </tr>\n",
       "    <tr>\n",
       "      <th>min</th>\n",
       "      <td>1.000000</td>\n",
       "      <td>0.001000</td>\n",
       "      <td>12346.000000</td>\n",
       "    </tr>\n",
       "    <tr>\n",
       "      <th>25%</th>\n",
       "      <td>1.000000</td>\n",
       "      <td>1.250000</td>\n",
       "      <td>14344.000000</td>\n",
       "    </tr>\n",
       "    <tr>\n",
       "      <th>50%</th>\n",
       "      <td>3.000000</td>\n",
       "      <td>2.100000</td>\n",
       "      <td>16241.000000</td>\n",
       "    </tr>\n",
       "    <tr>\n",
       "      <th>75%</th>\n",
       "      <td>11.000000</td>\n",
       "      <td>4.130000</td>\n",
       "      <td>18272.000000</td>\n",
       "    </tr>\n",
       "    <tr>\n",
       "      <th>max</th>\n",
       "      <td>80995.000000</td>\n",
       "      <td>38970.000000</td>\n",
       "      <td>29999.000000</td>\n",
       "    </tr>\n",
       "  </tbody>\n",
       "</table>\n",
       "</div>"
      ],
      "text/plain": [
       "            Quantity      UnitPrice     CustomerID\n",
       "count  534209.000000  534209.000000  534209.000000\n",
       "mean       10.973707       4.741298   17483.307045\n",
       "std       217.064976      97.457759    4441.794706\n",
       "min         1.000000       0.001000   12346.000000\n",
       "25%         1.000000       1.250000   14344.000000\n",
       "50%         3.000000       2.100000   16241.000000\n",
       "75%        11.000000       4.130000   18272.000000\n",
       "max     80995.000000   38970.000000   29999.000000"
      ]
     },
     "execution_count": 25,
     "metadata": {},
     "output_type": "execute_result"
    }
   ],
   "source": [
    "df.describe()"
   ]
  },
  {
   "cell_type": "code",
   "execution_count": 26,
   "id": "ca8b23b1",
   "metadata": {},
   "outputs": [],
   "source": [
    "df.to_csv('Cleaned_Online_Retail.csv', index=False)"
   ]
  },
  {
   "cell_type": "markdown",
   "id": "69fa0438",
   "metadata": {},
   "source": [
    "## I-2 Analyse"
   ]
  },
  {
   "cell_type": "code",
   "execution_count": 27,
   "id": "0528f71a",
   "metadata": {
    "scrolled": true
   },
   "outputs": [
    {
     "data": {
      "text/html": [
       "<div>\n",
       "<style scoped>\n",
       "    .dataframe tbody tr th:only-of-type {\n",
       "        vertical-align: middle;\n",
       "    }\n",
       "\n",
       "    .dataframe tbody tr th {\n",
       "        vertical-align: top;\n",
       "    }\n",
       "\n",
       "    .dataframe thead th {\n",
       "        text-align: right;\n",
       "    }\n",
       "</style>\n",
       "<table border=\"1\" class=\"dataframe\">\n",
       "  <thead>\n",
       "    <tr style=\"text-align: right;\">\n",
       "      <th></th>\n",
       "      <th>InvoiceNo</th>\n",
       "      <th>StockCode</th>\n",
       "      <th>Description</th>\n",
       "      <th>Quantity</th>\n",
       "      <th>InvoiceDate</th>\n",
       "      <th>UnitPrice</th>\n",
       "      <th>CustomerID</th>\n",
       "      <th>Country</th>\n",
       "    </tr>\n",
       "  </thead>\n",
       "  <tbody>\n",
       "    <tr>\n",
       "      <th>0</th>\n",
       "      <td>536365</td>\n",
       "      <td>85123A</td>\n",
       "      <td>WHITE HANGING HEART T-LIGHT HOLDER</td>\n",
       "      <td>6</td>\n",
       "      <td>2010-12-01 08:26:00</td>\n",
       "      <td>2.55</td>\n",
       "      <td>17850</td>\n",
       "      <td>United Kingdom</td>\n",
       "    </tr>\n",
       "    <tr>\n",
       "      <th>1</th>\n",
       "      <td>536365</td>\n",
       "      <td>71053</td>\n",
       "      <td>WHITE METAL LANTERN</td>\n",
       "      <td>6</td>\n",
       "      <td>2010-12-01 08:26:00</td>\n",
       "      <td>3.39</td>\n",
       "      <td>17850</td>\n",
       "      <td>United Kingdom</td>\n",
       "    </tr>\n",
       "    <tr>\n",
       "      <th>2</th>\n",
       "      <td>536365</td>\n",
       "      <td>84406B</td>\n",
       "      <td>CREAM CUPID HEARTS COAT HANGER</td>\n",
       "      <td>8</td>\n",
       "      <td>2010-12-01 08:26:00</td>\n",
       "      <td>2.75</td>\n",
       "      <td>17850</td>\n",
       "      <td>United Kingdom</td>\n",
       "    </tr>\n",
       "    <tr>\n",
       "      <th>3</th>\n",
       "      <td>536365</td>\n",
       "      <td>84029G</td>\n",
       "      <td>KNITTED UNION FLAG HOT WATER BOTTLE</td>\n",
       "      <td>6</td>\n",
       "      <td>2010-12-01 08:26:00</td>\n",
       "      <td>3.39</td>\n",
       "      <td>17850</td>\n",
       "      <td>United Kingdom</td>\n",
       "    </tr>\n",
       "    <tr>\n",
       "      <th>4</th>\n",
       "      <td>536365</td>\n",
       "      <td>84029E</td>\n",
       "      <td>RED WOOLLY HOTTIE WHITE HEART.</td>\n",
       "      <td>6</td>\n",
       "      <td>2010-12-01 08:26:00</td>\n",
       "      <td>3.39</td>\n",
       "      <td>17850</td>\n",
       "      <td>United Kingdom</td>\n",
       "    </tr>\n",
       "  </tbody>\n",
       "</table>\n",
       "</div>"
      ],
      "text/plain": [
       "  InvoiceNo StockCode                          Description  Quantity   \n",
       "0    536365    85123A   WHITE HANGING HEART T-LIGHT HOLDER         6  \\\n",
       "1    536365     71053                  WHITE METAL LANTERN         6   \n",
       "2    536365    84406B       CREAM CUPID HEARTS COAT HANGER         8   \n",
       "3    536365    84029G  KNITTED UNION FLAG HOT WATER BOTTLE         6   \n",
       "4    536365    84029E       RED WOOLLY HOTTIE WHITE HEART.         6   \n",
       "\n",
       "           InvoiceDate  UnitPrice  CustomerID         Country  \n",
       "0  2010-12-01 08:26:00       2.55       17850  United Kingdom  \n",
       "1  2010-12-01 08:26:00       3.39       17850  United Kingdom  \n",
       "2  2010-12-01 08:26:00       2.75       17850  United Kingdom  \n",
       "3  2010-12-01 08:26:00       3.39       17850  United Kingdom  \n",
       "4  2010-12-01 08:26:00       3.39       17850  United Kingdom  "
      ]
     },
     "execution_count": 27,
     "metadata": {},
     "output_type": "execute_result"
    }
   ],
   "source": [
    "df.head()"
   ]
  },
  {
   "cell_type": "markdown",
   "id": "3290e6f4",
   "metadata": {},
   "source": [
    "### Quelle sont les clients qui ont passées plus de commande sur notre site ?"
   ]
  },
  {
   "cell_type": "code",
   "execution_count": 29,
   "id": "523a7cbd",
   "metadata": {},
   "outputs": [
    {
     "name": "stdout",
     "output_type": "stream",
     "text": [
      "The top 5 customers with the most orders:\n",
      "Customer ID: 14911\n",
      "Number of Orders: 248\n",
      "---------------------------------------\n",
      "Customer ID: 12748\n",
      "Number of Orders: 224\n",
      "---------------------------------------\n",
      "Customer ID: 17841\n",
      "Number of Orders: 169\n",
      "---------------------------------------\n",
      "Customer ID: 14606\n",
      "Number of Orders: 128\n",
      "---------------------------------------\n",
      "Customer ID: 13089\n",
      "Number of Orders: 118\n",
      "---------------------------------------\n"
     ]
    }
   ],
   "source": [
    "NbrOfInvoicesByCustomer = df.groupby(\"CustomerID\")[\"InvoiceNo\"].value_counts()\n",
    "top_customers = NbrOfInvoicesByCustomer.groupby(\"CustomerID\").count().nlargest(5)\n",
    "\n",
    "print(\"The top 5 customers with the most orders:\")\n",
    "for customer_id, num_orders in top_customers.items():\n",
    "    print(\"Customer ID:\", customer_id)\n",
    "    print(\"Number of Orders:\", num_orders)\n",
    "    print(\"---------------------------------------\")"
   ]
  },
  {
   "cell_type": "markdown",
   "id": "83191396",
   "metadata": {},
   "source": [
    "### Quelle est le plus haut montant dépensé par un seul client ?"
   ]
  },
  {
   "cell_type": "code",
   "execution_count": 35,
   "id": "9522ae14",
   "metadata": {},
   "outputs": [
    {
     "name": "stdout",
     "output_type": "stream",
     "text": [
      "Customer with the highest amount spent : 16446\n",
      "Highest amount spent : 336942.1\n"
     ]
    }
   ],
   "source": [
    "df['TotalAmount'] = df['Quantity'] * df['UnitPrice']\n",
    "total_amounts = df.groupby('CustomerID')['TotalAmount'].sum()\n",
    "\n",
    "highest_spending_customer = total_amounts.idxmax()\n",
    "highest_amount_spent = total_amounts.max()\n",
    "\n",
    "print(\"Customer with the highest amount spent :\", highest_spending_customer)\n",
    "print(\"Highest amount spent :\", highest_amount_spent)"
   ]
  },
  {
   "cell_type": "markdown",
   "id": "bdc10cb6",
   "metadata": {},
   "source": [
    "### Quelles est la description des produits les plus vendus ou acheté par les clients dans notre site ?"
   ]
  },
  {
   "cell_type": "code",
   "execution_count": 36,
   "id": "baadce05",
   "metadata": {},
   "outputs": [
    {
     "name": "stdout",
     "output_type": "stream",
     "text": [
      "Top 1 product description: PAPER CRAFT , LITTLE BIRDIE\n",
      "Top 2 product description: MEDIUM CERAMIC TOP STORAGE JAR\n",
      "Top 3 product description: WORLD WAR 2 GLIDERS ASSTD DESIGNS\n",
      "Top 4 product description: JUMBO BAG RED RETROSPOT\n",
      "Top 5 product description: WHITE HANGING HEART T-LIGHT HOLDER\n"
     ]
    }
   ],
   "source": [
    "top_product_descriptions = df.groupby('Description')['Quantity'].sum().nlargest(5).index\n",
    "for i, description in enumerate(top_product_descriptions, 1):\n",
    "    print(\"Top\", i, \"product description:\", description)"
   ]
  },
  {
   "cell_type": "markdown",
   "id": "41cb0b0b",
   "metadata": {},
   "source": [
    "### Quel est le nombre moyen de produits vendus par jour, mois ?"
   ]
  },
  {
   "cell_type": "code",
   "execution_count": 40,
   "id": "2cf85724",
   "metadata": {},
   "outputs": [
    {
     "name": "stdout",
     "output_type": "stream",
     "text": [
      "Average number of products sold per day : 19220\n",
      "Top 10 days with the highest number of products sold:\n",
      "InvoiceDate\n",
      "2011-12-09    174979\n",
      "2011-01-18    157209\n",
      "2011-11-14     47429\n",
      "2011-10-05     46399\n",
      "2011-12-05     44622\n",
      "2011-09-20     43714\n",
      "2011-08-04     43461\n",
      "2011-12-07     41897\n",
      "2010-12-02     41551\n",
      "2011-10-20     40972\n",
      "Name: Quantity, dtype: int64\n"
     ]
    }
   ],
   "source": [
    "df['InvoiceDate'] = pd.to_datetime(df['InvoiceDate'])\n",
    "\n",
    "products_per_day = df.groupby(df['InvoiceDate'].dt.date)['Quantity'].sum()\n",
    "\n",
    "mean_products_per_day = products_per_day.mean()\n",
    "\n",
    "print(\"Average number of products sold per day :\", int(mean_products_per_day))\n",
    "# Obtenez le top 10 des jours avec le plus grand nombre de produits vendus\n",
    "top_10_days = products_per_day.nlargest(10)\n",
    "print(\"Top 10 days with the highest number of products sold:\")\n",
    "print(top_10_days)"
   ]
  },
  {
   "cell_type": "code",
   "execution_count": 41,
   "id": "ad1e1fb2",
   "metadata": {},
   "outputs": [
    {
     "name": "stdout",
     "output_type": "stream",
     "text": [
      "Average number of products sold per month : 450942\n",
      "Top 10 months with the highest number of products sold:\n",
      "InvoiceDate\n",
      "2011-11    776811\n",
      "2011-10    644004\n",
      "2011-09    576907\n",
      "2011-01    467053\n",
      "2011-08    434186\n",
      "2011-07    405738\n",
      "2011-05    400953\n",
      "2011-12    397181\n",
      "2011-06    395888\n",
      "2011-03    382037\n",
      "Freq: M, Name: Quantity, dtype: int64\n"
     ]
    }
   ],
   "source": [
    "products_per_month = df.groupby(df['InvoiceDate'].dt.to_period('M'))['Quantity'].sum()\n",
    "\n",
    "mean_products_per_month = products_per_month.mean()\n",
    "\n",
    "print(\"Average number of products sold per month :\", int(mean_products_per_month))\n",
    "# Obtenez le top 10 des mois avec le plus grand nombre de produits vendus\n",
    "top_10_months = products_per_month.nlargest(10)\n",
    "print(\"Top 10 months with the highest number of products sold:\")\n",
    "print(top_10_months)"
   ]
  },
  {
   "cell_type": "markdown",
   "id": "165049ca",
   "metadata": {},
   "source": [
    "### Quelle est la répartition géographique des ventes ?"
   ]
  },
  {
   "cell_type": "code",
   "execution_count": 42,
   "id": "b6b59478",
   "metadata": {},
   "outputs": [
    {
     "data": {
      "text/plain": [
       "Country\n",
       "Australia   141029.26\n",
       "Austria      10243.04\n",
       "Bahrain        959.88\n",
       "Belgium      41481.72\n",
       "Brazil        1143.60\n",
       "Name: TotalAmount, dtype: float64"
      ]
     },
     "execution_count": 42,
     "metadata": {},
     "output_type": "execute_result"
    }
   ],
   "source": [
    "pd.options.display.float_format = '{:.2f}'.format\n",
    "sales_by_country = df.groupby('Country')['TotalAmount'].sum()\n",
    "sales_by_country.head()"
   ]
  },
  {
   "cell_type": "code",
   "execution_count": 49,
   "id": "e773e2a3",
   "metadata": {},
   "outputs": [
    {
     "data": {
      "image/png": "[encoded data removed]",
      "text/plain": [
       "<Figure size 1200x600 with 1 Axes>"
      ]
     },
     "metadata": {},
     "output_type": "display_data"
    }
   ],
   "source": [
    "sales_by_country = df.groupby('Country')['TotalAmount'].sum()\n",
    "sales_by_country = sales_by_country.sort_values(ascending=False)\n",
    "\n",
    "colors = ['skyblue', 'lightgreen', 'lightcoral', 'lightsalmon', 'lightblue']\n",
    "\n",
    "fig, ax = plt.subplots(figsize=(12, 6))\n",
    "ax.set_facecolor('#f2f2f2')\n",
    "\n",
    "bars = ax.bar(sales_by_country.index, sales_by_country.values, color=colors)\n",
    "plt.title(\"Répartition géographique des ventes\", fontsize=16)\n",
    "plt.xlabel(\"Pays\", fontsize=12)\n",
    "plt.ylabel(\"Montant total des ventes\", fontsize=12)\n",
    "plt.xticks(rotation=90, fontsize=10)\n",
    "plt.yticks(fontsize=10)\n",
    "\n",
    "plt.tight_layout()\n",
    "\n",
    "plt.savefig('sales_geography.png', dpi=300, bbox_inches='tight')\n",
    "\n",
    "plt.show()"
   ]
  },
  {
   "cell_type": "code",
   "execution_count": 51,
   "id": "3a29c54e",
   "metadata": {},
   "outputs": [
    {
     "data": {
      "image/png": "[encoded data removed]",
      "text/plain": [
       "<Figure size 1200x600 with 1 Axes>"
      ]
     },
     "metadata": {},
     "output_type": "display_data"
    }
   ],
   "source": [
    "sales_by_country = df.groupby('Country')['TotalAmount'].sum()\n",
    "\n",
    "sales_by_country = sales_by_country[sales_by_country.index != 'United Kingdom']\n",
    "\n",
    "sales_by_country = sales_by_country.sort_values(ascending=False)\n",
    "\n",
    "bar_colors = ['steelblue', 'mediumseagreen', 'indianred', 'goldenrod', 'dodgerblue']\n",
    "\n",
    "plt.figure(figsize=(12, 6))\n",
    "plt.bar(sales_by_country.index, sales_by_country.values, color=bar_colors)\n",
    "\n",
    "plt.title(\"Total Sales by Country (excluding United Kingdom)\")\n",
    "plt.xlabel(\"Country\")\n",
    "plt.ylabel(\"Total Sales\")\n",
    "\n",
    "plt.xticks(rotation=90)\n",
    "plt.tight_layout()\n",
    "\n",
    "plt.savefig('sales_by_country.png', dpi=300, bbox_inches='tight')\n",
    "\n",
    "plt.show()"
   ]
  },
  {
   "cell_type": "markdown",
   "id": "4220265c",
   "metadata": {},
   "source": [
    "### Quelle est la tendance des ventes au fil du temps, tracer un graphique de la croissance des ventes ?"
   ]
  },
  {
   "cell_type": "code",
   "execution_count": 53,
   "id": "d83b72ec",
   "metadata": {},
   "outputs": [
    {
     "data": {
      "image/png": "[encoded data removed]",
      "text/plain": [
       "<Figure size 1200x600 with 1 Axes>"
      ]
     },
     "metadata": {},
     "output_type": "display_data"
    }
   ],
   "source": [
    "df['InvoiceDate'] = pd.to_datetime(df['InvoiceDate'])\n",
    "monthly_sales = df.resample('M', on='InvoiceDate')['TotalAmount'].sum()\n",
    "\n",
    "fig, ax = plt.subplots(figsize=(12, 6))\n",
    "\n",
    "ax.plot(monthly_sales.index, monthly_sales.values, 'g.-', linewidth=2)\n",
    "ax.set_title(\"Croissance des ventes au fil du temps\", fontsize=16)\n",
    "ax.set_xlabel(\"Mois\", fontsize=12)\n",
    "ax.set_ylabel(\"Montant total des ventes\", fontsize=12)\n",
    "ax.xaxis.set_tick_params(rotation=45, labelsize=10)\n",
    "\n",
    "ax.grid(True, linestyle='--', alpha=0.5)\n",
    "ax.set_facecolor('#f7f7f7')\n",
    "\n",
    "for spine in ax.spines.values():\n",
    "    spine.set_visible(False)\n",
    "ax.spines['bottom'].set_visible(True)\n",
    "\n",
    "for i, value in enumerate(monthly_sales.values):\n",
    "    ax.text(monthly_sales.index[i], value, str(int(value)), ha='center', va='bottom', fontsize=10)\n",
    "\n",
    "plt.savefig('sales_trend.png', dpi=300, bbox_inches='tight')\n",
    "plt.show()"
   ]
  },
  {
   "cell_type": "markdown",
   "id": "9e83b6cb",
   "metadata": {},
   "source": [
    "### Quelle est la saisonnalité des ventes ?"
   ]
  },
  {
   "cell_type": "code",
   "execution_count": 55,
   "id": "8509c50e",
   "metadata": {},
   "outputs": [
    {
     "data": {
      "image/png": "[encoded data removed]",
      "text/plain": [
       "<Figure size 600x400 with 1 Axes>"
      ]
     },
     "metadata": {},
     "output_type": "display_data"
    }
   ],
   "source": [
    "df['InvoiceDate'] = pd.to_datetime(df['InvoiceDate'])\n",
    "df['Season'] = (df['InvoiceDate'].dt.month % 12 + 3) // 3\n",
    "seasonal_quantity = df.groupby('Season')['Quantity'].sum()\n",
    "season_names = {1: 'Winter', 2: 'Spring', 3: 'Summer', 4: 'Autumn'}\n",
    "\n",
    "fig, ax = plt.subplots(figsize=(6, 4))\n",
    "\n",
    "ax.bar(seasonal_quantity.index.map(season_names.get), seasonal_quantity.values, color='skyblue')\n",
    "ax.set_xlabel('Season')\n",
    "ax.set_ylabel('Quantity Sold')\n",
    "ax.set_title('Seasonal Sales')\n",
    "for i, value in enumerate(seasonal_quantity.values):\n",
    "    ax.text(i, value, str(int(value)), ha='center', va='bottom')\n",
    "\n",
    "ax.set_ylim(bottom=0)\n",
    "ax.yaxis.set_tick_params(which='both', labelleft=True)\n",
    "ax.grid(axis='y', linestyle='--', alpha=0.5)\n",
    "ax.set_facecolor('#f7f7f7')\n",
    "\n",
    "for spine in ax.spines.values():\n",
    "    spine.set_visible(False)\n",
    "ax.spines['bottom'].set_visible(True)\n",
    "\n",
    "plt.savefig('seasonal_sales.png', dpi=300, bbox_inches='tight')\n",
    "plt.show()"
   ]
  },
  {
   "cell_type": "markdown",
   "id": "8ed7cd87",
   "metadata": {},
   "source": [
    "### Quel est le chiffre d'affaires total réalisé par le site de vente en ligne sur une période donnée (par exemple année 2011)?"
   ]
  },
  {
   "cell_type": "code",
   "execution_count": 56,
   "id": "f1281a54",
   "metadata": {},
   "outputs": [
    {
     "name": "stdout",
     "output_type": "stream",
     "text": [
      "The total turnover achieved by the online sales site in 2011 is: 10675362.19\n"
     ]
    }
   ],
   "source": [
    "df['InvoiceDate'] = pd.to_datetime(df['InvoiceDate'])\n",
    "\n",
    "start_date = pd.to_datetime('2011-01-01')\n",
    "end_date = pd.to_datetime('2011-12-31')\n",
    "filtered_df = df[(df['InvoiceDate'] >= start_date) & (df['InvoiceDate'] <= end_date)]\n",
    "\n",
    "total_revenue = filtered_df['TotalAmount'].sum()\n",
    "\n",
    "print(\"The total turnover achieved by the online sales site in 2011 is: {:.2f}\".format(total_revenue))"
   ]
  },
  {
   "cell_type": "markdown",
   "id": "28757ba9",
   "metadata": {},
   "source": [
    "### Quels sont les moments du jour (matin, après-midi, soir) que les clients achètent le plus ?"
   ]
  },
  {
   "cell_type": "code",
   "execution_count": 58,
   "id": "5641ed2b",
   "metadata": {},
   "outputs": [
    {
     "data": {
      "image/png": "[encoded data removed]",
      "text/plain": [
       "<Figure size 800x600 with 1 Axes>"
      ]
     },
     "metadata": {},
     "output_type": "display_data"
    }
   ],
   "source": [
    "df['InvoiceDate'] = pd.to_datetime(df['InvoiceDate'])\n",
    "df['Hour'] = df['InvoiceDate'].dt.hour\n",
    "\n",
    "bins = [6, 12, 18, 24]\n",
    "labels = ['Morning', 'Afternoon', 'Evening']\n",
    "\n",
    "df['Daytime'] = pd.cut(df['Hour'], bins=bins, labels=labels, right=False)\n",
    "\n",
    "transaction_count = df['Daytime'].value_counts()\n",
    "\n",
    "plt.figure(figsize=(8, 6))\n",
    "plt.bar(transaction_count.index, transaction_count.values, color=['#ffa726', '#26a69a', '#ab47bc'])\n",
    "\n",
    "plt.xlabel('Time of Day')\n",
    "plt.ylabel('Transaction Count')\n",
    "plt.title('Transaction Distribution by Time of Day (excluding Night)')\n",
    "\n",
    "plt.grid(axis='y', linestyle='--')\n",
    "plt.savefig('transaction_distribution.png', dpi=300, bbox_inches='tight')\n",
    "\n",
    "plt.show()"
   ]
  },
  {
   "cell_type": "markdown",
   "id": "27a488b4",
   "metadata": {},
   "source": [
    "### Quelle est la distribution des prix des produits ?"
   ]
  },
  {
   "cell_type": "code",
   "execution_count": 62,
   "id": "15c8dfff",
   "metadata": {},
   "outputs": [
    {
     "data": {
      "image/png": "[encoded data removed]",
      "text/plain": [
       "<Figure size 1000x600 with 1 Axes>"
      ]
     },
     "metadata": {},
     "output_type": "display_data"
    }
   ],
   "source": [
    "bins = [0, 1, 2, 3, 4, 5, 10, 15, 20, 25, 30, 35, 40, 50, float('inf')]\n",
    "labels = ['0-1', '1-2', '2-3', '3-4', '4-5', '5-10', '10-15', '15-20', '20-25', '25-30',\n",
    "          '30-35', '35-40', '40-50', '+50']\n",
    "\n",
    "grouped_prices = df.groupby('StockCode')['UnitPrice']\n",
    "\n",
    "count, _ = np.histogram(grouped_prices.mean(), bins=bins)\n",
    "\n",
    "plt.figure(figsize=(10, 6))\n",
    "plt.bar(range(len(bins)-1), count, color='#00ffff')\n",
    "\n",
    "plt.xlabel('Price Range')\n",
    "plt.ylabel('Number of Products')\n",
    "plt.title('Distribution of Product Prices by Price Range')\n",
    "\n",
    "plt.xticks(range(len(bins)-1), labels, rotation=45)\n",
    "\n",
    "plt.grid(axis='y', linestyle='--')\n",
    "\n",
    "plt.savefig('price_distribution.png',dpi=300, bbox_inches='tight')\n",
    "\n",
    "plt.show()"
   ]
  },
  {
   "cell_type": "markdown",
   "id": "f6b0d993",
   "metadata": {},
   "source": [
    "# II-SQL"
   ]
  },
  {
   "cell_type": "markdown",
   "id": "7c051408",
   "metadata": {},
   "source": [
    "## II-1 L’insertion des données nettoyées dans la base de données SQL"
   ]
  },
  {
   "cell_type": "code",
   "execution_count": 42,
   "id": "95b21d47",
   "metadata": {},
   "outputs": [],
   "source": [
    "import pyodbc"
   ]
  },
  {
   "cell_type": "code",
   "execution_count": 43,
   "id": "61f82387",
   "metadata": {},
   "outputs": [
    {
     "data": {
      "text/html": [
       "<div>\n",
       "<style scoped>\n",
       "    .dataframe tbody tr th:only-of-type {\n",
       "        vertical-align: middle;\n",
       "    }\n",
       "\n",
       "    .dataframe tbody tr th {\n",
       "        vertical-align: top;\n",
       "    }\n",
       "\n",
       "    .dataframe thead th {\n",
       "        text-align: right;\n",
       "    }\n",
       "</style>\n",
       "<table border=\"1\" class=\"dataframe\">\n",
       "  <thead>\n",
       "    <tr style=\"text-align: right;\">\n",
       "      <th></th>\n",
       "      <th>InvoiceNo</th>\n",
       "      <th>StockCode</th>\n",
       "      <th>Description</th>\n",
       "      <th>Quantity</th>\n",
       "      <th>InvoiceDate</th>\n",
       "      <th>UnitPrice</th>\n",
       "      <th>CustomerID</th>\n",
       "      <th>Country</th>\n",
       "    </tr>\n",
       "  </thead>\n",
       "  <tbody>\n",
       "    <tr>\n",
       "      <th>0</th>\n",
       "      <td>536365</td>\n",
       "      <td>85123A</td>\n",
       "      <td>WHITE HANGING HEART T-LIGHT HOLDER</td>\n",
       "      <td>6</td>\n",
       "      <td>2010-12-01 08:26:00</td>\n",
       "      <td>2.55</td>\n",
       "      <td>17850</td>\n",
       "      <td>United Kingdom</td>\n",
       "    </tr>\n",
       "    <tr>\n",
       "      <th>1</th>\n",
       "      <td>536365</td>\n",
       "      <td>71053</td>\n",
       "      <td>WHITE METAL LANTERN</td>\n",
       "      <td>6</td>\n",
       "      <td>2010-12-01 08:26:00</td>\n",
       "      <td>3.39</td>\n",
       "      <td>17850</td>\n",
       "      <td>United Kingdom</td>\n",
       "    </tr>\n",
       "    <tr>\n",
       "      <th>2</th>\n",
       "      <td>536365</td>\n",
       "      <td>84406B</td>\n",
       "      <td>CREAM CUPID HEARTS COAT HANGER</td>\n",
       "      <td>8</td>\n",
       "      <td>2010-12-01 08:26:00</td>\n",
       "      <td>2.75</td>\n",
       "      <td>17850</td>\n",
       "      <td>United Kingdom</td>\n",
       "    </tr>\n",
       "    <tr>\n",
       "      <th>3</th>\n",
       "      <td>536365</td>\n",
       "      <td>84029G</td>\n",
       "      <td>KNITTED UNION FLAG HOT WATER BOTTLE</td>\n",
       "      <td>6</td>\n",
       "      <td>2010-12-01 08:26:00</td>\n",
       "      <td>3.39</td>\n",
       "      <td>17850</td>\n",
       "      <td>United Kingdom</td>\n",
       "    </tr>\n",
       "    <tr>\n",
       "      <th>4</th>\n",
       "      <td>536365</td>\n",
       "      <td>84029E</td>\n",
       "      <td>RED WOOLLY HOTTIE WHITE HEART.</td>\n",
       "      <td>6</td>\n",
       "      <td>2010-12-01 08:26:00</td>\n",
       "      <td>3.39</td>\n",
       "      <td>17850</td>\n",
       "      <td>United Kingdom</td>\n",
       "    </tr>\n",
       "  </tbody>\n",
       "</table>\n",
       "</div>"
      ],
      "text/plain": [
       "  InvoiceNo StockCode                          Description  Quantity   \n",
       "0    536365    85123A   WHITE HANGING HEART T-LIGHT HOLDER         6  \\\n",
       "1    536365     71053                  WHITE METAL LANTERN         6   \n",
       "2    536365    84406B       CREAM CUPID HEARTS COAT HANGER         8   \n",
       "3    536365    84029G  KNITTED UNION FLAG HOT WATER BOTTLE         6   \n",
       "4    536365    84029E       RED WOOLLY HOTTIE WHITE HEART.         6   \n",
       "\n",
       "           InvoiceDate  UnitPrice  CustomerID         Country  \n",
       "0  2010-12-01 08:26:00       2.55       17850  United Kingdom  \n",
       "1  2010-12-01 08:26:00       3.39       17850  United Kingdom  \n",
       "2  2010-12-01 08:26:00       2.75       17850  United Kingdom  \n",
       "3  2010-12-01 08:26:00       3.39       17850  United Kingdom  \n",
       "4  2010-12-01 08:26:00       3.39       17850  United Kingdom  "
      ]
     },
     "execution_count": 43,
     "metadata": {},
     "output_type": "execute_result"
    }
   ],
   "source": [
    "ndf=pd.read_csv('Cleaned_Online_Retail.csv')\n",
    "ndf.head()"
   ]
  },
  {
   "cell_type": "code",
   "execution_count": 44,
   "id": "5818d217",
   "metadata": {},
   "outputs": [],
   "source": [
    "# Créez la connexion\n",
    "connection = pyodbc.connect('DRIVER={SQL SERVER} ;SERVER=LAPTOP-1US3GU3J\\SQLEXPRESS;DATABASE=Online_Retail')"
   ]
  },
  {
   "cell_type": "code",
   "execution_count": 45,
   "id": "80bde903",
   "metadata": {},
   "outputs": [],
   "source": [
    "cursor = connection.cursor()"
   ]
  },
  {
   "cell_type": "code",
   "execution_count": 72,
   "id": "2a8e4a39",
   "metadata": {},
   "outputs": [
    {
     "data": {
      "text/plain": [
       "<pyodbc.Cursor at 0x20fe6c4b5b0>"
      ]
     },
     "execution_count": 72,
     "metadata": {},
     "output_type": "execute_result"
    }
   ],
   "source": [
    "cursor.execute('''\n",
    "    CREATE TABLE Retail(\n",
    "        InvoiceNo varchar(255),\n",
    "        StockCode varchar(255),\n",
    "        Description varchar(255),\n",
    "        Quantity int,\n",
    "        InvoiceDate date,\n",
    "        UnitPrice float,\n",
    "        CustomerID int,\n",
    "        Country varchar(255)\n",
    "    )\n",
    "''')"
   ]
  },
  {
   "cell_type": "code",
   "execution_count": 74,
   "id": "accdb594",
   "metadata": {},
   "outputs": [],
   "source": [
    "connection.commit()"
   ]
  },
  {
   "cell_type": "code",
   "execution_count": null,
   "id": "f82c58eb",
   "metadata": {},
   "outputs": [],
   "source": [
    "for row in df.itertuples():\n",
    "    cursor.execute('''\n",
    "    INSERT INTO Retail (\n",
    "        InvoiceNo,\n",
    "        StockCode,\n",
    "        Description,\n",
    "        Quantity,\n",
    "        InvoiceDate,\n",
    "        UnitPrice,\n",
    "        CustomerID,\n",
    "        Country \n",
    "    )\n",
    "                VALUES (?,?,?,?,?,?,?,?)\n",
    "                ''',\n",
    "        row.InvoiceNo,\n",
    "        row.StockCode,\n",
    "        row.Description,\n",
    "        row.Quantity,\n",
    "        row.InvoiceDate,\n",
    "        row.UnitPrice,\n",
    "        row.CustomerID,\n",
    "        row.Country \n",
    "                )\n",
    "conn.commit()"
   ]
  },
  {
   "cell_type": "markdown",
   "id": "28da361f",
   "metadata": {},
   "source": [
    "## II-2 Création des requêtes afin de vérifier des informations du Dataset"
   ]
  },
  {
   "cell_type": "code",
   "execution_count": 50,
   "id": "8f8fdb76",
   "metadata": {},
   "outputs": [],
   "source": [
    "cursor.execute(\"SELECT * FROM Retail where CustomerID IS NULL\")\n",
    "result1 = cursor.fetchall()\n",
    "for row in result1:\n",
    "    print(row)\n",
    "cursor.execute(\"SELECT * FROM Retail WHERE description IS NULL\")\n",
    "result2 = cursor.fetchall()\n",
    "for row in result2:\n",
    "    print(row)\n",
    "cursor.execute(\"SELECT * FROM Retail WHERE UnitPrice = 0.00\")\n",
    "result3 = cursor.fetchall()\n",
    "for row in result3:\n",
    "    print(row)    "
   ]
  },
  {
   "cell_type": "code",
   "execution_count": 51,
   "id": "f7fdeded",
   "metadata": {},
   "outputs": [
    {
     "name": "stdout",
     "output_type": "stream",
     "text": [
      "('C536757', '84347', 'ROTATING SILVER ANGELS T-LIGHT HLDR', 9360, datetime.datetime(2010, 12, 2, 0, 0), 0.03, 15838, 'United Kingdom')\n",
      "('541431', '23166', 'MEDIUM CERAMIC TOP STORAGE JAR', 74215, datetime.datetime(2011, 1, 18, 0, 0), 1.04, 12346, 'United Kingdom')\n",
      "('C541433', '23166', 'MEDIUM CERAMIC TOP STORAGE JAR', 74215, datetime.datetime(2011, 1, 18, 0, 0), 1.04, 12346, 'United Kingdom')\n",
      "('578841', '84826', 'ASSTD DESIGN 3D PAPER STICKERS', 12540, datetime.datetime(2011, 11, 25, 0, 0), 0.5894594594594594, 13256, 'United Kingdom')\n",
      "('581483', '23843', 'PAPER CRAFT , LITTLE BIRDIE', 80995, datetime.datetime(2011, 12, 9, 0, 0), 2.08, 16446, 'United Kingdom')\n",
      "('C581484', '23843', 'PAPER CRAFT , LITTLE BIRDIE', 80995, datetime.datetime(2011, 12, 9, 0, 0), 2.08, 16446, 'United Kingdom')\n"
     ]
    }
   ],
   "source": [
    "cursor.execute(\"SELECT * FROM Retail WHERE Quantity >= 5000 \")\n",
    "result4 = cursor.fetchall()\n",
    "for row in result4:\n",
    "    print(row) "
   ]
  },
  {
   "cell_type": "code",
   "execution_count": 54,
   "id": "bd132367",
   "metadata": {},
   "outputs": [
    {
     "name": "stdout",
     "output_type": "stream",
     "text": [
      "('C537630', 'AMAZONFEE', 'AMAZON FEE', 1, datetime.datetime(2010, 12, 7, 0, 0), 13541.33, 22460, 'United Kingdom')\n",
      "('537632', 'AMAZONFEE', 'AMAZON FEE', 1, datetime.datetime(2010, 12, 7, 0, 0), 13541.33, 22708, 'United Kingdom')\n",
      "('C537644', 'AMAZONFEE', 'AMAZON FEE', 1, datetime.datetime(2010, 12, 7, 0, 0), 13474.79, 23712, 'United Kingdom')\n",
      "('C537651', 'AMAZONFEE', 'AMAZON FEE', 1, datetime.datetime(2010, 12, 7, 0, 0), 13541.33, 26120, 'United Kingdom')\n",
      "('C540117', 'AMAZONFEE', 'AMAZON FEE', 1, datetime.datetime(2011, 1, 5, 0, 0), 16888.02, 29225, 'United Kingdom')\n",
      "('C540118', 'AMAZONFEE', 'AMAZON FEE', 1, datetime.datetime(2011, 1, 5, 0, 0), 16453.71, 19334, 'United Kingdom')\n",
      "('C556445', 'M', 'Manual', 1, datetime.datetime(2011, 6, 10, 0, 0), 38970.0, 15098, 'United Kingdom')\n",
      "('A563185', 'B', 'Adjust bad debt', 1, datetime.datetime(2011, 8, 12, 0, 0), 11062.06, 23209, 'United Kingdom')\n",
      "('A563186', 'B', 'Adjust bad debt', 1, datetime.datetime(2011, 8, 12, 0, 0), 11062.06, 20316, 'United Kingdom')\n",
      "('A563187', 'B', 'Adjust bad debt', 1, datetime.datetime(2011, 8, 12, 0, 0), 11062.06, 23374, 'United Kingdom')\n",
      "('C580604', 'AMAZONFEE', 'AMAZON FEE', 1, datetime.datetime(2011, 12, 5, 0, 0), 11586.5, 18337, 'United Kingdom')\n",
      "('C580605', 'AMAZONFEE', 'AMAZON FEE', 1, datetime.datetime(2011, 12, 5, 0, 0), 17836.46, 21796, 'United Kingdom')\n"
     ]
    }
   ],
   "source": [
    "cursor.execute(\"SELECT * FROM Retail WHERE UnitPrice >= 10000.00 \")\n",
    "result5 = cursor.fetchall()\n",
    "for row in result5:\n",
    "    print(row) "
   ]
  },
  {
   "cell_type": "code",
   "execution_count": 48,
   "id": "5f2bb652",
   "metadata": {},
   "outputs": [
    {
     "name": "stdout",
     "output_type": "stream",
     "text": [
      "(10,)\n"
     ]
    }
   ],
   "source": [
    "cursor.execute(\"SELECT AVG(Quantity) FROM Retail as Quantity_UK WHERE country='United Kingdom';\")\n",
    "result6 = cursor.fetchall()\n",
    "for row in result6:\n",
    "    print(row)"
   ]
  },
  {
   "cell_type": "code",
   "execution_count": null,
   "id": "aa046c53",
   "metadata": {},
   "outputs": [],
   "source": []
  },
  {
   "cell_type": "markdown",
   "id": "29301df7",
   "metadata": {},
   "source": [
    "## II-3 Créer une nouvelle Table SQL qui stockent seulement Customer ID et le montant total qu’il a dépensé chaque année dans notre site "
   ]
  },
  {
   "cell_type": "code",
   "execution_count": 99,
   "id": "bbb26cb1",
   "metadata": {},
   "outputs": [],
   "source": [
    "cursor.execute('''\n",
    "    CREATE TABLE CustomerSpending (\n",
    "      CustomerID INT,\n",
    "      Year INT,\n",
    "      TotalSpending DECIMAL(10, 2)\n",
    "    );\n",
    "''')\n",
    "connection.commit()"
   ]
  },
  {
   "cell_type": "code",
   "execution_count": 100,
   "id": "9bc165bb",
   "metadata": {},
   "outputs": [],
   "source": [
    "cursor.execute('''\n",
    "    INSERT INTO CustomerSpending (CustomerID, Year, TotalSpending)\n",
    "SELECT\n",
    "  CustomerID,\n",
    "  YEAR(CONVERT(DATE, InvoiceDate)) AS Year,\n",
    "  SUM(UnitPrice * Quantity) AS TotalSpending\n",
    "FROM\n",
    "  Retail\n",
    "GROUP BY\n",
    "  CustomerID,\n",
    "  YEAR(CONVERT(DATE, InvoiceDate));\n",
    "''')\n",
    "connection.commit()"
   ]
  },
  {
   "cell_type": "code",
   "execution_count": 101,
   "id": "a37333d9",
   "metadata": {},
   "outputs": [],
   "source": [
    "cursor.close()\n",
    "connection.close()"
   ]
  }
 ],
 "metadata": {
  "kernelspec": {
   "display_name": "Python 3 (ipykernel)",
   "language": "python",
   "name": "python3"
  },
  "language_info": {
   "codemirror_mode": {
    "name": "ipython",
    "version": 3
   },
   "file_extension": ".py",
   "mimetype": "text/x-python",
   "name": "python",
   "nbconvert_exporter": "python",
   "pygments_lexer": "ipython3",
   "version": "3.11.3"
  }
 },
 "nbformat": 4,
 "nbformat_minor": 5
}
